{
 "cells": [
  {
   "cell_type": "markdown",
   "metadata": {},
   "source": [
    "# Hands-On Lab 2 - String Matching"
   ]
  },
  {
   "cell_type": "markdown",
   "metadata": {},
   "source": [
    "#### Welcome to the second hands-on lab of this NLP Workshop. In this task, you will experiment several algorithms for fuzzy string matching. "
   ]
  },
  {
   "cell_type": "markdown",
   "metadata": {},
   "source": [
    "Import Packages"
   ]
  },
  {
   "cell_type": "code",
   "execution_count": 3,
   "metadata": {},
   "outputs": [
    {
     "name": "stderr",
     "output_type": "stream",
     "text": [
      "/home/vitor.rolla/anaconda3/envs/nlp_fraud/lib/python3.8/site-packages/thefuzz/fuzz.py:11: UserWarning: Using slow pure-python SequenceMatcher. Install python-Levenshtein to remove this warning\n",
      "  warnings.warn('Using slow pure-python SequenceMatcher. Install python-Levenshtein to remove this warning')\n",
      "2022-12-13 15:41:34.005848: I tensorflow/core/platform/cpu_feature_guard.cc:193] This TensorFlow binary is optimized with oneAPI Deep Neural Network Library (oneDNN) to use the following CPU instructions in performance-critical operations:  AVX2 FMA\n",
      "To enable them in other operations, rebuild TensorFlow with the appropriate compiler flags.\n",
      "2022-12-13 15:41:34.151535: W tensorflow/compiler/xla/stream_executor/platform/default/dso_loader.cc:64] Could not load dynamic library 'libcudart.so.11.0'; dlerror: libcudart.so.11.0: cannot open shared object file: No such file or directory\n",
      "2022-12-13 15:41:34.151560: I tensorflow/compiler/xla/stream_executor/cuda/cudart_stub.cc:29] Ignore above cudart dlerror if you do not have a GPU set up on your machine.\n",
      "2022-12-13 15:41:35.723657: W tensorflow/compiler/xla/stream_executor/platform/default/dso_loader.cc:64] Could not load dynamic library 'libnvinfer.so.7'; dlerror: libnvinfer.so.7: cannot open shared object file: No such file or directory\n",
      "2022-12-13 15:41:35.723759: W tensorflow/compiler/xla/stream_executor/platform/default/dso_loader.cc:64] Could not load dynamic library 'libnvinfer_plugin.so.7'; dlerror: libnvinfer_plugin.so.7: cannot open shared object file: No such file or directory\n",
      "2022-12-13 15:41:35.723772: W tensorflow/compiler/tf2tensorrt/utils/py_utils.cc:38] TF-TRT Warning: Cannot dlopen some TensorRT libraries. If you would like to use Nvidia GPU with TensorRT, please make sure the missing libraries mentioned above are installed properly.\n"
     ]
    }
   ],
   "source": [
    "import pandas as pd\n",
    "import numpy as np\n",
    "from thefuzz import fuzz\n",
    "import textdistance as tx\n",
    "\n",
    "import tensorflow as tf\n",
    "\n",
    "import tensorflow_hub as hub\n",
    "\n",
    "from absl import logging\n",
    "\n",
    "# Reduce logging output.\n",
    "logging.set_verbosity(logging.ERROR)"
   ]
  },
  {
   "cell_type": "code",
   "execution_count": 4,
   "metadata": {},
   "outputs": [
    {
     "name": "stderr",
     "output_type": "stream",
     "text": [
      "2022-12-13 15:41:38.624651: I tensorflow/compiler/xla/stream_executor/cuda/cuda_gpu_executor.cc:981] successful NUMA node read from SysFS had negative value (-1), but there must be at least one NUMA node, so returning NUMA node zero\n",
      "2022-12-13 15:41:38.625272: W tensorflow/compiler/xla/stream_executor/platform/default/dso_loader.cc:64] Could not load dynamic library 'libcudart.so.11.0'; dlerror: libcudart.so.11.0: cannot open shared object file: No such file or directory\n",
      "2022-12-13 15:41:38.625326: W tensorflow/compiler/xla/stream_executor/platform/default/dso_loader.cc:64] Could not load dynamic library 'libcublas.so.11'; dlerror: libcublas.so.11: cannot open shared object file: No such file or directory\n",
      "2022-12-13 15:41:38.625363: W tensorflow/compiler/xla/stream_executor/platform/default/dso_loader.cc:64] Could not load dynamic library 'libcublasLt.so.11'; dlerror: libcublasLt.so.11: cannot open shared object file: No such file or directory\n",
      "2022-12-13 15:41:38.625397: W tensorflow/compiler/xla/stream_executor/platform/default/dso_loader.cc:64] Could not load dynamic library 'libcufft.so.10'; dlerror: libcufft.so.10: cannot open shared object file: No such file or directory\n",
      "2022-12-13 15:41:38.625433: W tensorflow/compiler/xla/stream_executor/platform/default/dso_loader.cc:64] Could not load dynamic library 'libcurand.so.10'; dlerror: libcurand.so.10: cannot open shared object file: No such file or directory\n",
      "2022-12-13 15:41:38.625480: W tensorflow/compiler/xla/stream_executor/platform/default/dso_loader.cc:64] Could not load dynamic library 'libcusolver.so.11'; dlerror: libcusolver.so.11: cannot open shared object file: No such file or directory\n",
      "2022-12-13 15:41:38.625515: W tensorflow/compiler/xla/stream_executor/platform/default/dso_loader.cc:64] Could not load dynamic library 'libcusparse.so.11'; dlerror: libcusparse.so.11: cannot open shared object file: No such file or directory\n",
      "2022-12-13 15:41:38.625547: W tensorflow/compiler/xla/stream_executor/platform/default/dso_loader.cc:64] Could not load dynamic library 'libcudnn.so.8'; dlerror: libcudnn.so.8: cannot open shared object file: No such file or directory\n",
      "2022-12-13 15:41:38.625554: W tensorflow/core/common_runtime/gpu/gpu_device.cc:1934] Cannot dlopen some GPU libraries. Please make sure the missing libraries mentioned above are installed properly if you would like to use GPU. Follow the guide at https://www.tensorflow.org/install/gpu for how to download and setup the required libraries for your platform.\n",
      "Skipping registering GPU devices...\n",
      "2022-12-13 15:41:38.625862: I tensorflow/core/platform/cpu_feature_guard.cc:193] This TensorFlow binary is optimized with oneAPI Deep Neural Network Library (oneDNN) to use the following CPU instructions in performance-critical operations:  AVX2 FMA\n",
      "To enable them in other operations, rebuild TensorFlow with the appropriate compiler flags.\n"
     ]
    },
    {
     "name": "stdout",
     "output_type": "stream",
     "text": [
      "module https://tfhub.dev/google/universal-sentence-encoder/4 loaded\n"
     ]
    }
   ],
   "source": [
    "module_url = \"https://tfhub.dev/google/universal-sentence-encoder/4\"\n",
    "model = hub.load(module_url)\n",
    "print (\"module %s loaded\" % module_url)\n",
    "def embed(input):\n",
    "  return model(input)"
   ]
  },
  {
   "cell_type": "markdown",
   "metadata": {},
   "source": [
    "Basic examples (Token vs. Edit)"
   ]
  },
  {
   "cell_type": "code",
   "execution_count": 5,
   "metadata": {},
   "outputs": [
    {
     "name": "stdout",
     "output_type": "stream",
     "text": [
      "Edit-based similarity: 13\n",
      "Edit-based distance: 4 \n",
      "\n",
      "Token-based Jaccard: 0.7\n",
      "Token-based Cosine: 0.8235294117647058 \n",
      "\n",
      "Thefuzz ratio: 65\n",
      "Thefuzz partial ratio: 65\n",
      "Thefuzz token sort ratio: 65\n",
      "Thefuzz token set ratio: 100 \n",
      "\n"
     ]
    },
    {
     "data": {
      "text/plain": [
       "array([[0.8538301]], dtype=float32)"
      ]
     },
     "execution_count": 5,
     "metadata": {},
     "output_type": "execute_result"
    }
   ],
   "source": [
    "\n",
    "s1 = \"hello hello world\"\n",
    "s2 = \"hello world world\"\n",
    "\n",
    "# Textdistance - Edit\n",
    "print(\"Edit-based similarity:\", tx.levenshtein.similarity(s1, s2))\n",
    "print(\"Edit-based distance:\", tx.levenshtein.distance(s1, s2), \"\\n\")\n",
    "\n",
    "# Textdistance - Token\n",
    "print(\"Token-based Jaccard:\", tx.jaccard.similarity(s1, s2))\n",
    "print(\"Token-based Cosine:\", tx.cosine.similarity(s1, s2), \"\\n\")\n",
    "\n",
    "# Thefuzz\n",
    "print(\"Thefuzz ratio:\", fuzz.ratio(s1, s2))\n",
    "print(\"Thefuzz partial ratio:\", fuzz.partial_ratio(s1, s2))\n",
    "print(\"Thefuzz token sort ratio:\", fuzz.token_sort_ratio(s1, s2))\n",
    "print(\"Thefuzz token set ratio:\", fuzz.token_set_ratio(s1, s2), \"\\n\")\n",
    "\n",
    "# Sentence embed\n",
    "\n",
    "message_embeddings1 = embed([s1])\n",
    "message_embeddings2 = embed([s2])\n",
    "np.inner(message_embeddings1, message_embeddings2)\n",
    "\n"
   ]
  },
  {
   "cell_type": "markdown",
   "metadata": {},
   "source": [
    "Load Data"
   ]
  },
  {
   "cell_type": "code",
   "execution_count": 6,
   "metadata": {},
   "outputs": [],
   "source": [
    "read_kwargs = {\n",
    "    \"header\": 0,\n",
    "    \"index_col\": 0,\n",
    "    \"skip_blank_lines\": False,\n",
    "    \"names\": [\"meetup_names\", \"given_names\"]\n",
    "}\n",
    "\n",
    "data = pd.read_csv(\"../data/fuzzy_names.csv\", **read_kwargs).dropna()"
   ]
  },
  {
   "cell_type": "code",
   "execution_count": 7,
   "metadata": {},
   "outputs": [
    {
     "data": {
      "text/html": [
       "<div>\n",
       "<style scoped>\n",
       "    .dataframe tbody tr th:only-of-type {\n",
       "        vertical-align: middle;\n",
       "    }\n",
       "\n",
       "    .dataframe tbody tr th {\n",
       "        vertical-align: top;\n",
       "    }\n",
       "\n",
       "    .dataframe thead th {\n",
       "        text-align: right;\n",
       "    }\n",
       "</style>\n",
       "<table border=\"1\" class=\"dataframe\">\n",
       "  <thead>\n",
       "    <tr style=\"text-align: right;\">\n",
       "      <th></th>\n",
       "      <th>meetup_names</th>\n",
       "      <th>given_names</th>\n",
       "    </tr>\n",
       "  </thead>\n",
       "  <tbody>\n",
       "    <tr>\n",
       "      <th>199666335</th>\n",
       "      <td>Lynn</td>\n",
       "      <td>Lynn Zhang</td>\n",
       "    </tr>\n",
       "    <tr>\n",
       "      <th>achang0319</th>\n",
       "      <td>Cheng</td>\n",
       "      <td>Cheng Chang</td>\n",
       "    </tr>\n",
       "    <tr>\n",
       "      <th>AimOnTheEl</th>\n",
       "      <td>A</td>\n",
       "      <td>Aimee Light</td>\n",
       "    </tr>\n",
       "    <tr>\n",
       "      <th>andheartsjaz</th>\n",
       "      <td>Jaz Sophia Viccarro</td>\n",
       "      <td>Jasmine Wilson</td>\n",
       "    </tr>\n",
       "    <tr>\n",
       "      <th>AusSeattle</th>\n",
       "      <td>Rene</td>\n",
       "      <td>Rene Haase</td>\n",
       "    </tr>\n",
       "    <tr>\n",
       "      <th>...</th>\n",
       "      <td>...</td>\n",
       "      <td>...</td>\n",
       "    </tr>\n",
       "    <tr>\n",
       "      <th>user 98524592</th>\n",
       "      <td>Kevin N</td>\n",
       "      <td>Kevin Nasto</td>\n",
       "    </tr>\n",
       "    <tr>\n",
       "      <th>user 98968492</th>\n",
       "      <td>TR</td>\n",
       "      <td>TR Tuccio</td>\n",
       "    </tr>\n",
       "    <tr>\n",
       "      <th>user 99224232</th>\n",
       "      <td>Ariel Greenway</td>\n",
       "      <td>Ariel Ann Greenway</td>\n",
       "    </tr>\n",
       "    <tr>\n",
       "      <th>wkeithvan</th>\n",
       "      <td>Wm. Keith van der Meulen</td>\n",
       "      <td>Keith van der Meulen</td>\n",
       "    </tr>\n",
       "    <tr>\n",
       "      <th>zhuyusheng</th>\n",
       "      <td>Yusheng</td>\n",
       "      <td>Yusheng Zhu</td>\n",
       "    </tr>\n",
       "  </tbody>\n",
       "</table>\n",
       "<p>230 rows × 2 columns</p>\n",
       "</div>"
      ],
      "text/plain": [
       "                           meetup_names           given_names\n",
       "199666335                          Lynn            Lynn Zhang\n",
       "achang0319                        Cheng           Cheng Chang\n",
       "AimOnTheEl                            A           Aimee Light\n",
       "andheartsjaz        Jaz Sophia Viccarro        Jasmine Wilson\n",
       "AusSeattle                         Rene            Rene Haase\n",
       "...                                 ...                   ...\n",
       "user 98524592                   Kevin N           Kevin Nasto\n",
       "user 98968492                        TR             TR Tuccio\n",
       "user 99224232            Ariel Greenway    Ariel Ann Greenway\n",
       "wkeithvan      Wm. Keith van der Meulen  Keith van der Meulen\n",
       "zhuyusheng                      Yusheng           Yusheng Zhu\n",
       "\n",
       "[230 rows x 2 columns]"
      ]
     },
     "execution_count": 7,
     "metadata": {},
     "output_type": "execute_result"
    }
   ],
   "source": [
    "data"
   ]
  },
  {
   "cell_type": "markdown",
   "metadata": {},
   "source": [
    "Calculate similarities"
   ]
  },
  {
   "cell_type": "code",
   "execution_count": 12,
   "metadata": {},
   "outputs": [],
   "source": [
    "\n",
    "def get_score(s1, s2):\n",
    "    # return tx.hamming.similarity(s1, s2)\n",
    "    # return tx.DamerauLevenshtein.similarity(s1, s2)\n",
    "    # return tx.Levenshtein.similarity(s1, s2)\n",
    "    # return tx.ratcliff_obershelp.similarity(s1, s2)\n",
    "    # return tx.jaccard.similarity(s1, s2)\n",
    "    return fuzz.token_set_ratio(s1, s2)\n",
    "\n",
    "data['score'] = data.apply(lambda x: get_score(x.meetup_names, x.given_names), axis=1)"
   ]
  },
  {
   "cell_type": "code",
   "execution_count": 13,
   "metadata": {},
   "outputs": [
    {
     "data": {
      "text/html": [
       "<div>\n",
       "<style scoped>\n",
       "    .dataframe tbody tr th:only-of-type {\n",
       "        vertical-align: middle;\n",
       "    }\n",
       "\n",
       "    .dataframe tbody tr th {\n",
       "        vertical-align: top;\n",
       "    }\n",
       "\n",
       "    .dataframe thead th {\n",
       "        text-align: right;\n",
       "    }\n",
       "</style>\n",
       "<table border=\"1\" class=\"dataframe\">\n",
       "  <thead>\n",
       "    <tr style=\"text-align: right;\">\n",
       "      <th></th>\n",
       "      <th>meetup_names</th>\n",
       "      <th>given_names</th>\n",
       "      <th>score</th>\n",
       "    </tr>\n",
       "  </thead>\n",
       "  <tbody>\n",
       "    <tr>\n",
       "      <th>199666335</th>\n",
       "      <td>Lynn</td>\n",
       "      <td>Lynn Zhang</td>\n",
       "      <td>100</td>\n",
       "    </tr>\n",
       "    <tr>\n",
       "      <th>achang0319</th>\n",
       "      <td>Cheng</td>\n",
       "      <td>Cheng Chang</td>\n",
       "      <td>100</td>\n",
       "    </tr>\n",
       "    <tr>\n",
       "      <th>AimOnTheEl</th>\n",
       "      <td>A</td>\n",
       "      <td>Aimee Light</td>\n",
       "      <td>17</td>\n",
       "    </tr>\n",
       "    <tr>\n",
       "      <th>andheartsjaz</th>\n",
       "      <td>Jaz Sophia Viccarro</td>\n",
       "      <td>Jasmine Wilson</td>\n",
       "      <td>30</td>\n",
       "    </tr>\n",
       "    <tr>\n",
       "      <th>AusSeattle</th>\n",
       "      <td>Rene</td>\n",
       "      <td>Rene Haase</td>\n",
       "      <td>100</td>\n",
       "    </tr>\n",
       "    <tr>\n",
       "      <th>...</th>\n",
       "      <td>...</td>\n",
       "      <td>...</td>\n",
       "      <td>...</td>\n",
       "    </tr>\n",
       "    <tr>\n",
       "      <th>user 98524592</th>\n",
       "      <td>Kevin N</td>\n",
       "      <td>Kevin Nasto</td>\n",
       "      <td>83</td>\n",
       "    </tr>\n",
       "    <tr>\n",
       "      <th>user 98968492</th>\n",
       "      <td>TR</td>\n",
       "      <td>TR Tuccio</td>\n",
       "      <td>100</td>\n",
       "    </tr>\n",
       "    <tr>\n",
       "      <th>user 99224232</th>\n",
       "      <td>Ariel Greenway</td>\n",
       "      <td>Ariel Ann Greenway</td>\n",
       "      <td>100</td>\n",
       "    </tr>\n",
       "    <tr>\n",
       "      <th>wkeithvan</th>\n",
       "      <td>Wm. Keith van der Meulen</td>\n",
       "      <td>Keith van der Meulen</td>\n",
       "      <td>100</td>\n",
       "    </tr>\n",
       "    <tr>\n",
       "      <th>zhuyusheng</th>\n",
       "      <td>Yusheng</td>\n",
       "      <td>Yusheng Zhu</td>\n",
       "      <td>100</td>\n",
       "    </tr>\n",
       "  </tbody>\n",
       "</table>\n",
       "<p>230 rows × 3 columns</p>\n",
       "</div>"
      ],
      "text/plain": [
       "                           meetup_names           given_names  score\n",
       "199666335                          Lynn            Lynn Zhang    100\n",
       "achang0319                        Cheng           Cheng Chang    100\n",
       "AimOnTheEl                            A           Aimee Light     17\n",
       "andheartsjaz        Jaz Sophia Viccarro        Jasmine Wilson     30\n",
       "AusSeattle                         Rene            Rene Haase    100\n",
       "...                                 ...                   ...    ...\n",
       "user 98524592                   Kevin N           Kevin Nasto     83\n",
       "user 98968492                        TR             TR Tuccio    100\n",
       "user 99224232            Ariel Greenway    Ariel Ann Greenway    100\n",
       "wkeithvan      Wm. Keith van der Meulen  Keith van der Meulen    100\n",
       "zhuyusheng                      Yusheng           Yusheng Zhu    100\n",
       "\n",
       "[230 rows x 3 columns]"
      ]
     },
     "execution_count": 13,
     "metadata": {},
     "output_type": "execute_result"
    }
   ],
   "source": [
    "data"
   ]
  },
  {
   "cell_type": "markdown",
   "metadata": {},
   "source": [
    "Select the best matches based on score"
   ]
  },
  {
   "cell_type": "code",
   "execution_count": 14,
   "metadata": {},
   "outputs": [],
   "source": [
    "threshold = 80\n",
    "best_matches = data[data['score'] > threshold]"
   ]
  },
  {
   "cell_type": "markdown",
   "metadata": {},
   "source": [
    "Calculate the ratio for selected matched"
   ]
  },
  {
   "cell_type": "code",
   "execution_count": 15,
   "metadata": {},
   "outputs": [
    {
     "data": {
      "text/plain": [
       "0.6782608695652174"
      ]
     },
     "execution_count": 15,
     "metadata": {},
     "output_type": "execute_result"
    }
   ],
   "source": [
    "best_matches.shape[0] / data.shape[0]"
   ]
  }
 ],
 "metadata": {
  "kernelspec": {
   "display_name": "Python 3.8.12 ('nlp_fraud')",
   "language": "python",
   "name": "python3"
  },
  "language_info": {
   "codemirror_mode": {
    "name": "ipython",
    "version": 3
   },
   "file_extension": ".py",
   "mimetype": "text/x-python",
   "name": "python",
   "nbconvert_exporter": "python",
   "pygments_lexer": "ipython3",
   "version": "3.8.12"
  },
  "orig_nbformat": 4,
  "vscode": {
   "interpreter": {
    "hash": "b16166a0de5e365fa98da2d864e1de2043058efedb5ded2f24b23a19f5d42696"
   }
  }
 },
 "nbformat": 4,
 "nbformat_minor": 2
}
